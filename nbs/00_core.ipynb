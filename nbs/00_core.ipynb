{
 "cells": [
  {
   "cell_type": "markdown",
   "metadata": {},
   "source": [
    "# core\n",
    "\n",
    "> Fill in a module description here"
   ]
  },
  {
   "cell_type": "code",
   "execution_count": null,
   "metadata": {},
   "outputs": [],
   "source": [
    "#| default_exp core"
   ]
  },
  {
   "cell_type": "code",
   "execution_count": null,
   "metadata": {},
   "outputs": [],
   "source": [
    "#| hide\n",
    "from nbdev.showdoc import *"
   ]
  },
  {
   "cell_type": "code",
   "execution_count": null,
   "metadata": {},
   "outputs": [],
   "source": [
    "# !pip install snorkel"
   ]
  },
  {
   "cell_type": "code",
   "execution_count": null,
   "metadata": {},
   "outputs": [],
   "source": [
    "import pandas as pd"
   ]
  },
  {
   "cell_type": "code",
   "execution_count": null,
   "metadata": {},
   "outputs": [],
   "source": [
    "df_train = pd.read_csv('../all_sqlbelle_youtube_comments_4200rows.csv')"
   ]
  },
  {
   "cell_type": "code",
   "execution_count": null,
   "metadata": {},
   "outputs": [
    {
     "data": {
      "text/plain": [
       "4201                              Thank you George :)\n",
       "4200    Awesome! Looking forward to many more videos.\n",
       "Name: textDisplay, dtype: object"
      ]
     },
     "execution_count": null,
     "metadata": {},
     "output_type": "execute_result"
    }
   ],
   "source": [
    "df_train.textDisplay[:-3:-1]"
   ]
  },
  {
   "cell_type": "code",
   "execution_count": null,
   "metadata": {},
   "outputs": [
    {
     "data": {
      "text/html": [
       "<div>\n",
       "<style scoped>\n",
       "    .dataframe tbody tr th:only-of-type {\n",
       "        vertical-align: middle;\n",
       "    }\n",
       "\n",
       "    .dataframe tbody tr th {\n",
       "        vertical-align: top;\n",
       "    }\n",
       "\n",
       "    .dataframe thead th {\n",
       "        text-align: right;\n",
       "    }\n",
       "</style>\n",
       "<table border=\"1\" class=\"dataframe\">\n",
       "  <thead>\n",
       "    <tr style=\"text-align: right;\">\n",
       "      <th></th>\n",
       "      <th>response_kind</th>\n",
       "      <th>vid_channel_id</th>\n",
       "      <th>vid_id</th>\n",
       "      <th>vid_published_at</th>\n",
       "      <th>vid_title</th>\n",
       "      <th>vid_desc</th>\n",
       "      <th>vid_chan_title</th>\n",
       "      <th>is_live_brodcast</th>\n",
       "      <th>vid_publish_time</th>\n",
       "      <th>view_count</th>\n",
       "      <th>...</th>\n",
       "      <th>canRate</th>\n",
       "      <th>viewerRating</th>\n",
       "      <th>likeCount</th>\n",
       "      <th>publishedAt</th>\n",
       "      <th>updatedAt</th>\n",
       "      <th>tcomment_id</th>\n",
       "      <th>reply_id</th>\n",
       "      <th>canReply</th>\n",
       "      <th>totalReplyCount</th>\n",
       "      <th>isPublic</th>\n",
       "    </tr>\n",
       "  </thead>\n",
       "  <tbody>\n",
       "    <tr>\n",
       "      <th>4200</th>\n",
       "      <td>youtube#commentThread</td>\n",
       "      <td>NaN</td>\n",
       "      <td>ZxcWBnXY8ps</td>\n",
       "      <td>NaN</td>\n",
       "      <td>NaN</td>\n",
       "      <td>NaN</td>\n",
       "      <td>NaN</td>\n",
       "      <td>NaN</td>\n",
       "      <td>NaN</td>\n",
       "      <td>NaN</td>\n",
       "      <td>...</td>\n",
       "      <td>True</td>\n",
       "      <td>none</td>\n",
       "      <td>1.0</td>\n",
       "      <td>2020-09-02T06:16:13Z</td>\n",
       "      <td>2020-09-02T06:16:13Z</td>\n",
       "      <td>UgzO3LCmld1HWW3XpNt4AaABAg</td>\n",
       "      <td>NaN</td>\n",
       "      <td>True</td>\n",
       "      <td>1.0</td>\n",
       "      <td>True</td>\n",
       "    </tr>\n",
       "    <tr>\n",
       "      <th>4201</th>\n",
       "      <td>youtube#comment</td>\n",
       "      <td>NaN</td>\n",
       "      <td>ZxcWBnXY8ps</td>\n",
       "      <td>NaN</td>\n",
       "      <td>NaN</td>\n",
       "      <td>NaN</td>\n",
       "      <td>NaN</td>\n",
       "      <td>NaN</td>\n",
       "      <td>NaN</td>\n",
       "      <td>NaN</td>\n",
       "      <td>...</td>\n",
       "      <td>True</td>\n",
       "      <td>none</td>\n",
       "      <td>0.0</td>\n",
       "      <td>2020-09-03T05:16:12Z</td>\n",
       "      <td>2020-09-03T05:16:12Z</td>\n",
       "      <td>UgzO3LCmld1HWW3XpNt4AaABAg</td>\n",
       "      <td>UgzO3LCmld1HWW3XpNt4AaABAg.9D5QmTk8TpI9D7thkihuok</td>\n",
       "      <td>NaN</td>\n",
       "      <td>NaN</td>\n",
       "      <td>NaN</td>\n",
       "    </tr>\n",
       "  </tbody>\n",
       "</table>\n",
       "<p>2 rows × 30 columns</p>\n",
       "</div>"
      ],
      "text/plain": [
       "              response_kind vid_channel_id       vid_id vid_published_at  \\\n",
       "4200  youtube#commentThread            NaN  ZxcWBnXY8ps              NaN   \n",
       "4201        youtube#comment            NaN  ZxcWBnXY8ps              NaN   \n",
       "\n",
       "     vid_title vid_desc vid_chan_title  is_live_brodcast vid_publish_time  \\\n",
       "4200       NaN      NaN            NaN               NaN              NaN   \n",
       "4201       NaN      NaN            NaN               NaN              NaN   \n",
       "\n",
       "     view_count  ... canRate  viewerRating likeCount           publishedAt  \\\n",
       "4200        NaN  ...    True          none       1.0  2020-09-02T06:16:13Z   \n",
       "4201        NaN  ...    True          none       0.0  2020-09-03T05:16:12Z   \n",
       "\n",
       "                 updatedAt                 tcomment_id  \\\n",
       "4200  2020-09-02T06:16:13Z  UgzO3LCmld1HWW3XpNt4AaABAg   \n",
       "4201  2020-09-03T05:16:12Z  UgzO3LCmld1HWW3XpNt4AaABAg   \n",
       "\n",
       "                                               reply_id canReply  \\\n",
       "4200                                                NaN     True   \n",
       "4201  UgzO3LCmld1HWW3XpNt4AaABAg.9D5QmTk8TpI9D7thkihuok      NaN   \n",
       "\n",
       "     totalReplyCount isPublic  \n",
       "4200             1.0     True  \n",
       "4201             NaN      NaN  \n",
       "\n",
       "[2 rows x 30 columns]"
      ]
     },
     "execution_count": null,
     "metadata": {},
     "output_type": "execute_result"
    }
   ],
   "source": [
    "df_train.tail(2)"
   ]
  },
  {
   "cell_type": "markdown",
   "metadata": {},
   "source": [
    "#### Create simple labels to start"
   ]
  },
  {
   "cell_type": "code",
   "execution_count": null,
   "metadata": {},
   "outputs": [],
   "source": [
    "abstain = -1\n",
    "not_spam = 0\n",
    "spam = 1"
   ]
  },
  {
   "cell_type": "markdown",
   "metadata": {},
   "source": [
    "#### Key Word:  simple function to identify comments using \"my\""
   ]
  },
  {
   "cell_type": "code",
   "execution_count": null,
   "metadata": {},
   "outputs": [],
   "source": [
    "from snorkel.labeling import labeling_function\n",
    "\n",
    "\n",
    "@labeling_function()\n",
    "def lf_keyword_my(x):\n",
    "    \"\"\"Many spam comments talk about 'my channel', 'my video', etc.\"\"\"\n",
    "    return spam if \"my\" in x.text.lower() else abstain"
   ]
  },
  {
   "cell_type": "markdown",
   "metadata": {},
   "source": [
    "#### Regular Expression: simple fuction"
   ]
  },
  {
   "cell_type": "code",
   "execution_count": null,
   "metadata": {},
   "outputs": [],
   "source": [
    "import re\n",
    "\n",
    "\n",
    "@labeling_function()\n",
    "def lf_regex_check_out(x):\n",
    "    \"\"\"Spam comments say 'check out my video', 'check it out', etc.\"\"\"\n",
    "    return spam if re.search(r\"check.*out\", x.text, flags=re.I) else abstain\n"
   ]
  },
  {
   "cell_type": "markdown",
   "metadata": {},
   "source": [
    "#### Arbitrary Heuristics"
   ]
  },
  {
   "cell_type": "code",
   "execution_count": null,
   "metadata": {},
   "outputs": [],
   "source": [
    "@labeling_function()\n",
    "def lf_short_comment(x):\n",
    "    \"\"\"Non-spam comments are often short, such as 'cool video!'.\"\"\"\n",
    "    return not_spam if len(x.text.split()) < 5 else abstain"
   ]
  },
  {
   "cell_type": "markdown",
   "metadata": {},
   "source": [
    "#### Third Party Models:\n",
    ">\n",
    "    -We use a third-party sentiment classification model, TextBlob.\n",
    "\n",
    "    -We combine this with the heuristic that non-spam comments are often positive."
   ]
  },
  {
   "cell_type": "code",
   "execution_count": null,
   "metadata": {},
   "outputs": [],
   "source": [
    "# !pip install textblob"
   ]
  },
  {
   "cell_type": "code",
   "execution_count": null,
   "metadata": {},
   "outputs": [],
   "source": [
    "from textblob import TextBlob\n",
    "\n",
    "\n",
    "@labeling_function()\n",
    "def lf_textblob_polarity(x):\n",
    "    \n",
    "    return not_spam if TextBlob(x.text).sentiment.polarity > 0.3 else abastain"
   ]
  },
  {
   "cell_type": "code",
   "execution_count": null,
   "metadata": {},
   "outputs": [],
   "source": []
  },
  {
   "cell_type": "code",
   "execution_count": null,
   "metadata": {},
   "outputs": [],
   "source": [
    "#| export\n",
    "def foo(): pass"
   ]
  },
  {
   "cell_type": "code",
   "execution_count": null,
   "metadata": {},
   "outputs": [],
   "source": [
    "#| hide\n",
    "import nbdev; nbdev.nbdev_export()"
   ]
  }
 ],
 "metadata": {
  "kernelspec": {
   "display_name": "Python 3",
   "language": "python",
   "name": "python3"
  }
 },
 "nbformat": 4,
 "nbformat_minor": 4
}

{
 "cells": [
  {
   "cell_type": "markdown",
   "metadata": {},
   "source": [
    "# core\n",
    "\n",
    "> Fill in a module description here"
   ]
  },
  {
   "cell_type": "code",
   "execution_count": null,
   "metadata": {},
   "outputs": [],
   "source": [
    "#| default_exp core"
   ]
  },
  {
   "cell_type": "code",
   "execution_count": null,
   "metadata": {},
   "outputs": [],
   "source": [
    "#| hide\n",
    "from nbdev.showdoc import *"
   ]
  },
  {
   "cell_type": "code",
   "execution_count": null,
   "metadata": {},
   "outputs": [],
   "source": [
    "# !pip install snorkel"
   ]
  },
  {
   "cell_type": "code",
   "execution_count": null,
   "metadata": {},
   "outputs": [],
   "source": [
    "import pandas as pd"
   ]
  },
  {
   "cell_type": "code",
   "execution_count": null,
   "metadata": {},
   "outputs": [],
   "source": [
    "df_train = pd.read_csv('../all_sqlbelle_youtube_comments_4200rows.csv')"
   ]
  },
  {
   "cell_type": "code",
   "execution_count": null,
   "metadata": {},
   "outputs": [
    {
     "data": {
      "text/plain": [
       "4201                              Thank you George :)\n",
       "4200    Awesome! Looking forward to many more videos.\n",
       "Name: textDisplay, dtype: object"
      ]
     },
     "execution_count": null,
     "metadata": {},
     "output_type": "execute_result"
    }
   ],
   "source": [
    "df_train.textDisplay[:-3:-1]"
   ]
  },
  {
   "cell_type": "code",
   "execution_count": null,
   "metadata": {},
   "outputs": [
    {
     "data": {
      "text/html": [
       "<div>\n",
       "<style scoped>\n",
       "    .dataframe tbody tr th:only-of-type {\n",
       "        vertical-align: middle;\n",
       "    }\n",
       "\n",
       "    .dataframe tbody tr th {\n",
       "        vertical-align: top;\n",
       "    }\n",
       "\n",
       "    .dataframe thead th {\n",
       "        text-align: right;\n",
       "    }\n",
       "</style>\n",
       "<table border=\"1\" class=\"dataframe\">\n",
       "  <thead>\n",
       "    <tr style=\"text-align: right;\">\n",
       "      <th></th>\n",
       "      <th>response_kind</th>\n",
       "      <th>vid_channel_id</th>\n",
       "      <th>vid_id</th>\n",
       "      <th>vid_published_at</th>\n",
       "      <th>vid_title</th>\n",
       "      <th>vid_desc</th>\n",
       "      <th>vid_chan_title</th>\n",
       "      <th>is_live_brodcast</th>\n",
       "      <th>vid_publish_time</th>\n",
       "      <th>view_count</th>\n",
       "      <th>...</th>\n",
       "      <th>canRate</th>\n",
       "      <th>viewerRating</th>\n",
       "      <th>likeCount</th>\n",
       "      <th>publishedAt</th>\n",
       "      <th>updatedAt</th>\n",
       "      <th>tcomment_id</th>\n",
       "      <th>reply_id</th>\n",
       "      <th>canReply</th>\n",
       "      <th>totalReplyCount</th>\n",
       "      <th>isPublic</th>\n",
       "    </tr>\n",
       "  </thead>\n",
       "  <tbody>\n",
       "    <tr>\n",
       "      <th>4200</th>\n",
       "      <td>youtube#commentThread</td>\n",
       "      <td>NaN</td>\n",
       "      <td>ZxcWBnXY8ps</td>\n",
       "      <td>NaN</td>\n",
       "      <td>NaN</td>\n",
       "      <td>NaN</td>\n",
       "      <td>NaN</td>\n",
       "      <td>NaN</td>\n",
       "      <td>NaN</td>\n",
       "      <td>NaN</td>\n",
       "      <td>...</td>\n",
       "      <td>True</td>\n",
       "      <td>none</td>\n",
       "      <td>1.0</td>\n",
       "      <td>2020-09-02T06:16:13Z</td>\n",
       "      <td>2020-09-02T06:16:13Z</td>\n",
       "      <td>UgzO3LCmld1HWW3XpNt4AaABAg</td>\n",
       "      <td>NaN</td>\n",
       "      <td>True</td>\n",
       "      <td>1.0</td>\n",
       "      <td>True</td>\n",
       "    </tr>\n",
       "    <tr>\n",
       "      <th>4201</th>\n",
       "      <td>youtube#comment</td>\n",
       "      <td>NaN</td>\n",
       "      <td>ZxcWBnXY8ps</td>\n",
       "      <td>NaN</td>\n",
       "      <td>NaN</td>\n",
       "      <td>NaN</td>\n",
       "      <td>NaN</td>\n",
       "      <td>NaN</td>\n",
       "      <td>NaN</td>\n",
       "      <td>NaN</td>\n",
       "      <td>...</td>\n",
       "      <td>True</td>\n",
       "      <td>none</td>\n",
       "      <td>0.0</td>\n",
       "      <td>2020-09-03T05:16:12Z</td>\n",
       "      <td>2020-09-03T05:16:12Z</td>\n",
       "      <td>UgzO3LCmld1HWW3XpNt4AaABAg</td>\n",
       "      <td>UgzO3LCmld1HWW3XpNt4AaABAg.9D5QmTk8TpI9D7thkihuok</td>\n",
       "      <td>NaN</td>\n",
       "      <td>NaN</td>\n",
       "      <td>NaN</td>\n",
       "    </tr>\n",
       "  </tbody>\n",
       "</table>\n",
       "<p>2 rows × 30 columns</p>\n",
       "</div>"
      ],
      "text/plain": [
       "              response_kind vid_channel_id       vid_id vid_published_at  \\\n",
       "4200  youtube#commentThread            NaN  ZxcWBnXY8ps              NaN   \n",
       "4201        youtube#comment            NaN  ZxcWBnXY8ps              NaN   \n",
       "\n",
       "     vid_title vid_desc vid_chan_title  is_live_brodcast vid_publish_time  \\\n",
       "4200       NaN      NaN            NaN               NaN              NaN   \n",
       "4201       NaN      NaN            NaN               NaN              NaN   \n",
       "\n",
       "     view_count  ... canRate  viewerRating likeCount           publishedAt  \\\n",
       "4200        NaN  ...    True          none       1.0  2020-09-02T06:16:13Z   \n",
       "4201        NaN  ...    True          none       0.0  2020-09-03T05:16:12Z   \n",
       "\n",
       "                 updatedAt                 tcomment_id  \\\n",
       "4200  2020-09-02T06:16:13Z  UgzO3LCmld1HWW3XpNt4AaABAg   \n",
       "4201  2020-09-03T05:16:12Z  UgzO3LCmld1HWW3XpNt4AaABAg   \n",
       "\n",
       "                                               reply_id canReply  \\\n",
       "4200                                                NaN     True   \n",
       "4201  UgzO3LCmld1HWW3XpNt4AaABAg.9D5QmTk8TpI9D7thkihuok      NaN   \n",
       "\n",
       "     totalReplyCount isPublic  \n",
       "4200             1.0     True  \n",
       "4201             NaN      NaN  \n",
       "\n",
       "[2 rows x 30 columns]"
      ]
     },
     "execution_count": null,
     "metadata": {},
     "output_type": "execute_result"
    }
   ],
   "source": [
    "df_train.tail(2)"
   ]
  },
  {
   "cell_type": "markdown",
   "metadata": {},
   "source": [
    "#### Create simple labels to start"
   ]
  },
  {
   "cell_type": "code",
   "execution_count": null,
   "metadata": {},
   "outputs": [],
   "source": [
    "abstain = -1\n",
    "not_spam = 0\n",
    "spam = 1"
   ]
  },
  {
   "cell_type": "markdown",
   "metadata": {},
   "source": [
    "#### Key Word:  simple function to identify comments using \"my\""
   ]
  },
  {
   "cell_type": "code",
   "execution_count": null,
   "metadata": {},
   "outputs": [],
   "source": [
    "from snorkel.labeling import labeling_function\n",
    "\n",
    "\n",
    "@labeling_function()\n",
    "def lf_keyword_my(x):\n",
    "    \"\"\"Many spam comments talk about 'my channel', 'my video', etc.\"\"\"\n",
    "    return spam if \"my\" in x.text.lower() else abstain"
   ]
  },
  {
   "cell_type": "markdown",
   "metadata": {},
   "source": [
    "#### Regular Expression: simple fuction"
   ]
  },
  {
   "cell_type": "code",
   "execution_count": null,
   "metadata": {},
   "outputs": [],
   "source": [
    "import re\n",
    "\n",
    "\n",
    "@labeling_function()\n",
    "def lf_regex_check_out(x):\n",
    "    \"\"\"Spam comments say 'check out my video', 'check it out', etc.\"\"\"\n",
    "    return spam if re.search(r\"check.*out\", x.text, flags=re.I) else abstain"
   ]
  },
  {
   "cell_type": "markdown",
   "metadata": {},
   "source": [
    "#### Arbitrary Heuristics"
   ]
  },
  {
   "cell_type": "code",
   "execution_count": null,
   "metadata": {},
   "outputs": [],
   "source": [
    "@labeling_function()\n",
    "def lf_short_comment(x):\n",
    "    \"\"\"Non-spam comments are often short, such as 'cool video!'.\"\"\"\n",
    "    return not_spam if len(x.text.split()) < 5 else abstain"
   ]
  },
  {
   "cell_type": "markdown",
   "metadata": {},
   "source": [
    "#### Third Party Models:\n",
    ">\n",
    "    -We use a third-party sentiment classification model, TextBlob.\n",
    "\n",
    "    -We combine this with the heuristic that non-spam comments are often positive."
   ]
  },
  {
   "cell_type": "code",
   "execution_count": null,
   "metadata": {},
   "outputs": [],
   "source": [
    "# !pip install textblob"
   ]
  },
  {
   "cell_type": "code",
   "execution_count": null,
   "metadata": {},
   "outputs": [],
   "source": [
    "from textblob import TextBlob\n",
    "\n",
    "\n",
    "@labeling_function()\n",
    "def lf_textblob_polarity(x):\n",
    "    \n",
    "    return not_spam if TextBlob(x.text).sentiment.polarity > 0.3 else abstain"
   ]
  },
  {
   "cell_type": "markdown",
   "metadata": {},
   "source": [
    "# Combining & Cleaning the Labels"
   ]
  },
  {
   "cell_type": "code",
   "execution_count": null,
   "metadata": {},
   "outputs": [],
   "source": [
    "from snorkel.labeling.model import LabelModel\n",
    "from snorkel.labeling import PandasLFApplier"
   ]
  },
  {
   "cell_type": "code",
   "execution_count": null,
   "metadata": {},
   "outputs": [
    {
     "data": {
      "text/html": [
       "<div>\n",
       "<style scoped>\n",
       "    .dataframe tbody tr th:only-of-type {\n",
       "        vertical-align: middle;\n",
       "    }\n",
       "\n",
       "    .dataframe tbody tr th {\n",
       "        vertical-align: top;\n",
       "    }\n",
       "\n",
       "    .dataframe thead th {\n",
       "        text-align: right;\n",
       "    }\n",
       "</style>\n",
       "<table border=\"1\" class=\"dataframe\">\n",
       "  <thead>\n",
       "    <tr style=\"text-align: right;\">\n",
       "      <th></th>\n",
       "      <th>num</th>\n",
       "      <th>text</th>\n",
       "    </tr>\n",
       "  </thead>\n",
       "  <tbody>\n",
       "    <tr>\n",
       "      <th>0</th>\n",
       "      <td>45</td>\n",
       "      <td>Thank you. Very clear and informative</td>\n",
       "    </tr>\n",
       "    <tr>\n",
       "      <th>1</th>\n",
       "      <td>46</td>\n",
       "      <td>Really good content.  Looking forward to an ad...</td>\n",
       "    </tr>\n",
       "    <tr>\n",
       "      <th>2</th>\n",
       "      <td>47</td>\n",
       "      <td>Hello Belle, I am having a problem, when I am ...</td>\n",
       "    </tr>\n",
       "  </tbody>\n",
       "</table>\n",
       "</div>"
      ],
      "text/plain": [
       "   num                                               text\n",
       "0   45              Thank you. Very clear and informative\n",
       "1   46  Really good content.  Looking forward to an ad...\n",
       "2   47  Hello Belle, I am having a problem, when I am ..."
      ]
     },
     "execution_count": null,
     "metadata": {},
     "output_type": "execute_result"
    }
   ],
   "source": [
    "df = df_train\n",
    "#create toy dataset\n",
    "df =df[['textDisplay']][:100]\n",
    "#drop na's\n",
    "df = df.loc[~df.textDisplay.isna()]\n",
    "# create string and \n",
    "df = df.textDisplay.astype(str)\n",
    "\n",
    "df = df.reset_index()\n",
    "#rename columns\n",
    "df.rename(columns = {'index': 'num','textDisplay':'text'},inplace=True)\n",
    "df.tail(2)\n",
    "\n",
    "df_train = df\n",
    "df_train.head(3)"
   ]
  },
  {
   "cell_type": "code",
   "execution_count": null,
   "metadata": {},
   "outputs": [
    {
     "name": "stderr",
     "output_type": "stream",
     "text": [
      "100%|██████████| 55/55 [00:00<00:00, 456.43it/s]\n",
      "INFO:root:Computing O...\n",
      "INFO:root:Estimating \\mu...\n",
      "  0%|          | 0/500 [00:00<?, ?epoch/s]INFO:root:[0 epochs]: TRAIN:[loss=0.072]\n",
      "INFO:root:[50 epochs]: TRAIN:[loss=0.003]\n",
      " 11%|█         | 56/500 [00:00<00:00, 557.85epoch/s]INFO:root:[100 epochs]: TRAIN:[loss=0.002]\n",
      " 24%|██▍       | 122/500 [00:00<00:00, 615.84epoch/s]INFO:root:[150 epochs]: TRAIN:[loss=0.002]\n",
      "INFO:root:[200 epochs]: TRAIN:[loss=0.001]\n",
      " 41%|████      | 205/500 [00:00<00:00, 711.17epoch/s]INFO:root:[250 epochs]: TRAIN:[loss=0.001]\n",
      " 55%|█████▌    | 277/500 [00:00<00:00, 702.15epoch/s]INFO:root:[300 epochs]: TRAIN:[loss=0.001]\n",
      " 70%|██████▉   | 349/500 [00:00<00:00, 706.93epoch/s]INFO:root:[350 epochs]: TRAIN:[loss=0.000]\n",
      "INFO:root:[400 epochs]: TRAIN:[loss=0.000]\n",
      " 84%|████████▍ | 420/500 [00:00<00:00, 509.34epoch/s]INFO:root:[450 epochs]: TRAIN:[loss=0.000]\n",
      "100%|██████████| 500/500 [00:00<00:00, 601.04epoch/s]\n",
      "INFO:root:Finished Training\n"
     ]
    }
   ],
   "source": [
    "# Define the set of labeling functions (LFs)\n",
    "lfs = [lf_keyword_my, lf_regex_check_out, lf_short_comment, lf_textblob_polarity]\n",
    "\n",
    "# Apply the LFs to the unlabeled training data\n",
    "applier = PandasLFApplier(lfs)\n",
    "L_train = applier.apply(df_train)\n",
    "# Train the label model and compute the training labels\n",
    "label_model = LabelModel(cardinality=2, verbose=True)\n",
    "label_model.fit(L_train, n_epochs=500, log_freq=50, seed=123)\n",
    "df[\"label\"] = label_model.predict(L=L_train, tie_break_policy=\"abstain\")"
   ]
  },
  {
   "cell_type": "markdown",
   "metadata": {},
   "source": [
    "#### Filter out all data that was abstained from labeling"
   ]
  },
  {
   "cell_type": "code",
   "execution_count": null,
   "metadata": {},
   "outputs": [],
   "source": [
    "df_train = df_train[df_train.label != abstain]"
   ]
  },
  {
   "cell_type": "markdown",
   "metadata": {},
   "source": [
    "#### Augmentation Transfomers\n",
    ">Create functions that use nltk synonyms add more versions of our data with synonyms for model training"
   ]
  },
  {
   "cell_type": "code",
   "execution_count": null,
   "metadata": {},
   "outputs": [],
   "source": [
    "import random\n",
    "\n",
    "import nltk\n",
    "from nltk.corpus import wordnet as wn\n",
    "\n",
    "from snorkel.augmentation import transformation_function\n",
    "\n",
    "nltk.download(\"wordnet\", quiet=True)\n",
    "\n",
    "\n",
    "def get_synonyms(word):\n",
    "    \"\"\"Get the synonyms of word from Wordnet.\"\"\"\n",
    "    lemmas = set().union(*[s.lemmas() for s in wn.synsets(word)])\n",
    "    return list(set(l.name().lower().replace(\"_\", \" \") for l in lemmas) - {word})\n",
    "\n",
    "\n",
    "@transformation_function()\n",
    "def tf_replace_word_with_synonym(x):\n",
    "    \"\"\"Try to replace a random word with a synonym.\"\"\"\n",
    "    words = x.text.lower().split()\n",
    "    idx = random.choice(range(len(words)))\n",
    "    synonyms = get_synonyms(words[idx])\n",
    "    if len(synonyms) > 0:\n",
    "        x.text = \" \".join(words[:idx] + [synonyms[0]] + words[idx + 1 :])\n",
    "        return x"
   ]
  },
  {
   "cell_type": "markdown",
   "metadata": {},
   "source": [
    "#### Apply these functions to our dataset"
   ]
  },
  {
   "cell_type": "code",
   "execution_count": null,
   "metadata": {},
   "outputs": [
    {
     "name": "stderr",
     "output_type": "stream",
     "text": [
      "[nltk_data] Downloading package omw-1.4 to\n",
      "[nltk_data]     /Users/davidramsey/nltk_data...\n"
     ]
    },
    {
     "data": {
      "text/plain": [
       "True"
      ]
     },
     "execution_count": null,
     "metadata": {},
     "output_type": "execute_result"
    }
   ],
   "source": [
    "nltk.download('omw-1.4')"
   ]
  },
  {
   "cell_type": "code",
   "execution_count": null,
   "metadata": {},
   "outputs": [
    {
     "name": "stderr",
     "output_type": "stream",
     "text": [
      "100%|██████████| 34/34 [00:02<00:00, 11.93it/s]\n"
     ]
    }
   ],
   "source": [
    "from snorkel.augmentation import ApplyOnePolicy, PandasTFApplier\n",
    "\n",
    "tf_policy = ApplyOnePolicy(n_per_original=2, keep_original=True)\n",
    "tf_applier = PandasTFApplier([tf_replace_word_with_synonym], tf_policy)\n",
    "df_train_augmented = tf_applier.apply(df_train)"
   ]
  },
  {
   "cell_type": "markdown",
   "metadata": {},
   "source": [
    "### Writing a Slicing Function\n",
    "> create functions used to get rid of or \"slice\" out unwanted data"
   ]
  },
  {
   "cell_type": "code",
   "execution_count": null,
   "metadata": {},
   "outputs": [],
   "source": [
    "from snorkel.slicing import slicing_function\n",
    "\n",
    "\n",
    "@slicing_function()\n",
    "def short_link(x):\n",
    "    \"\"\"Return whether text matches common pattern for shortened \".ly\" links.\"\"\"\n",
    "    return int(bool(re.search(r\"\\w+\\.ly\", x.text)))"
   ]
  },
  {
   "cell_type": "markdown",
   "metadata": {},
   "source": [
    "### Train a Classifier"
   ]
  },
  {
   "cell_type": "code",
   "execution_count": null,
   "metadata": {},
   "outputs": [
    {
     "data": {
      "text/html": [
       "<div>\n",
       "<style scoped>\n",
       "    .dataframe tbody tr th:only-of-type {\n",
       "        vertical-align: middle;\n",
       "    }\n",
       "\n",
       "    .dataframe tbody tr th {\n",
       "        vertical-align: top;\n",
       "    }\n",
       "\n",
       "    .dataframe thead th {\n",
       "        text-align: right;\n",
       "    }\n",
       "</style>\n",
       "<table border=\"1\" class=\"dataframe\">\n",
       "  <thead>\n",
       "    <tr style=\"text-align: right;\">\n",
       "      <th></th>\n",
       "      <th>num</th>\n",
       "      <th>text</th>\n",
       "      <th>label</th>\n",
       "    </tr>\n",
       "  </thead>\n",
       "  <tbody>\n",
       "    <tr>\n",
       "      <th>1</th>\n",
       "      <td>46</td>\n",
       "      <td>Really good content.  Looking forward to an ad...</td>\n",
       "      <td>0</td>\n",
       "    </tr>\n",
       "    <tr>\n",
       "      <th>3</th>\n",
       "      <td>48</td>\n",
       "      <td>Do u hv any udemy course belle??</td>\n",
       "      <td>0</td>\n",
       "    </tr>\n",
       "    <tr>\n",
       "      <th>4</th>\n",
       "      <td>49</td>\n",
       "      <td>Thank you s o much! you are awesome teacher</td>\n",
       "      <td>0</td>\n",
       "    </tr>\n",
       "    <tr>\n",
       "      <th>10</th>\n",
       "      <td>55</td>\n",
       "      <td>recommend this for anyone who want to learn ta...</td>\n",
       "      <td>0</td>\n",
       "    </tr>\n",
       "    <tr>\n",
       "      <th>11</th>\n",
       "      <td>56</td>\n",
       "      <td>Thank you Michal! :)</td>\n",
       "      <td>0</td>\n",
       "    </tr>\n",
       "    <tr>\n",
       "      <th>12</th>\n",
       "      <td>57</td>\n",
       "      <td>All your videos are amazing! Thank you for you...</td>\n",
       "      <td>0</td>\n",
       "    </tr>\n",
       "    <tr>\n",
       "      <th>13</th>\n",
       "      <td>58</td>\n",
       "      <td>Thank you Suganthi!</td>\n",
       "      <td>1</td>\n",
       "    </tr>\n",
       "    <tr>\n",
       "      <th>15</th>\n",
       "      <td>60</td>\n",
       "      <td>Thank you Saurabh, I appreciate the kind comme...</td>\n",
       "      <td>0</td>\n",
       "    </tr>\n",
       "    <tr>\n",
       "      <th>16</th>\n",
       "      <td>61</td>\n",
       "      <td>Thanks for sharing the great detailed presenta...</td>\n",
       "      <td>0</td>\n",
       "    </tr>\n",
       "    <tr>\n",
       "      <th>17</th>\n",
       "      <td>62</td>\n",
       "      <td>Thank you Guna!</td>\n",
       "      <td>1</td>\n",
       "    </tr>\n",
       "    <tr>\n",
       "      <th>18</th>\n",
       "      <td>63</td>\n",
       "      <td>thanks a lot god bless you sqlbelle we wait fo...</td>\n",
       "      <td>0</td>\n",
       "    </tr>\n",
       "    <tr>\n",
       "      <th>22</th>\n",
       "      <td>67</td>\n",
       "      <td>Thank you so much putting all the Tableau  tip...</td>\n",
       "      <td>0</td>\n",
       "    </tr>\n",
       "    <tr>\n",
       "      <th>25</th>\n",
       "      <td>70</td>\n",
       "      <td>Thank you Sandeep, glad you found it helpful!</td>\n",
       "      <td>0</td>\n",
       "    </tr>\n",
       "    <tr>\n",
       "      <th>26</th>\n",
       "      <td>71</td>\n",
       "      <td>very nice explanation</td>\n",
       "      <td>0</td>\n",
       "    </tr>\n",
       "    <tr>\n",
       "      <th>27</th>\n",
       "      <td>72</td>\n",
       "      <td>Thank you Sasank.!</td>\n",
       "      <td>1</td>\n",
       "    </tr>\n",
       "    <tr>\n",
       "      <th>30</th>\n",
       "      <td>75</td>\n",
       "      <td>Thank you.</td>\n",
       "      <td>1</td>\n",
       "    </tr>\n",
       "    <tr>\n",
       "      <th>31</th>\n",
       "      <td>76</td>\n",
       "      <td>Thank you Patrick!</td>\n",
       "      <td>1</td>\n",
       "    </tr>\n",
       "    <tr>\n",
       "      <th>32</th>\n",
       "      <td>77</td>\n",
       "      <td>How did you become that good at Tableau ?!!</td>\n",
       "      <td>0</td>\n",
       "    </tr>\n",
       "    <tr>\n",
       "      <th>33</th>\n",
       "      <td>78</td>\n",
       "      <td>I am still learning :) ... I think with my wor...</td>\n",
       "      <td>0</td>\n",
       "    </tr>\n",
       "    <tr>\n",
       "      <th>35</th>\n",
       "      <td>80</td>\n",
       "      <td>So glad to hear, Deepa :)</td>\n",
       "      <td>0</td>\n",
       "    </tr>\n",
       "    <tr>\n",
       "      <th>36</th>\n",
       "      <td>81</td>\n",
       "      <td>Thanks alot.</td>\n",
       "      <td>1</td>\n",
       "    </tr>\n",
       "    <tr>\n",
       "      <th>37</th>\n",
       "      <td>82</td>\n",
       "      <td>Thank you Siddiqui!</td>\n",
       "      <td>1</td>\n",
       "    </tr>\n",
       "    <tr>\n",
       "      <th>38</th>\n",
       "      <td>83</td>\n",
       "      <td>very nice explanation🇮🇳🇮🇳🇮🇳</td>\n",
       "      <td>0</td>\n",
       "    </tr>\n",
       "    <tr>\n",
       "      <th>39</th>\n",
       "      <td>84</td>\n",
       "      <td>Thank you Hussain!</td>\n",
       "      <td>1</td>\n",
       "    </tr>\n",
       "    <tr>\n",
       "      <th>40</th>\n",
       "      <td>85</td>\n",
       "      <td>Very Informative 👍</td>\n",
       "      <td>1</td>\n",
       "    </tr>\n",
       "    <tr>\n",
       "      <th>41</th>\n",
       "      <td>86</td>\n",
       "      <td>Thank you Majunath!</td>\n",
       "      <td>1</td>\n",
       "    </tr>\n",
       "    <tr>\n",
       "      <th>42</th>\n",
       "      <td>87</td>\n",
       "      <td>Very good content</td>\n",
       "      <td>0</td>\n",
       "    </tr>\n",
       "    <tr>\n",
       "      <th>43</th>\n",
       "      <td>88</td>\n",
       "      <td>Thank you :)</td>\n",
       "      <td>0</td>\n",
       "    </tr>\n",
       "    <tr>\n",
       "      <th>47</th>\n",
       "      <td>92</td>\n",
       "      <td>Really your so awesome...\\nUse full tutorial f...</td>\n",
       "      <td>0</td>\n",
       "    </tr>\n",
       "    <tr>\n",
       "      <th>49</th>\n",
       "      <td>94</td>\n",
       "      <td>Impeccable delivery, as always. We're lucky to...</td>\n",
       "      <td>0</td>\n",
       "    </tr>\n",
       "    <tr>\n",
       "      <th>50</th>\n",
       "      <td>95</td>\n",
       "      <td>Thank you for the amazing video.  I have a cou...</td>\n",
       "      <td>0</td>\n",
       "    </tr>\n",
       "    <tr>\n",
       "      <th>51</th>\n",
       "      <td>96</td>\n",
       "      <td>wow! amazing! I was waiting for this</td>\n",
       "      <td>0</td>\n",
       "    </tr>\n",
       "    <tr>\n",
       "      <th>52</th>\n",
       "      <td>97</td>\n",
       "      <td>Thank you, very insightful! Was searching for ...</td>\n",
       "      <td>0</td>\n",
       "    </tr>\n",
       "    <tr>\n",
       "      <th>54</th>\n",
       "      <td>99</td>\n",
       "      <td>Thank you! I'm new to Tableau and I enjoyed yo...</td>\n",
       "      <td>0</td>\n",
       "    </tr>\n",
       "  </tbody>\n",
       "</table>\n",
       "</div>"
      ],
      "text/plain": [
       "    num                                               text  label\n",
       "1    46  Really good content.  Looking forward to an ad...      0\n",
       "3    48                   Do u hv any udemy course belle??      0\n",
       "4    49        Thank you s o much! you are awesome teacher      0\n",
       "10   55  recommend this for anyone who want to learn ta...      0\n",
       "11   56                               Thank you Michal! :)      0\n",
       "12   57  All your videos are amazing! Thank you for you...      0\n",
       "13   58                                Thank you Suganthi!      1\n",
       "15   60  Thank you Saurabh, I appreciate the kind comme...      0\n",
       "16   61  Thanks for sharing the great detailed presenta...      0\n",
       "17   62                                    Thank you Guna!      1\n",
       "18   63  thanks a lot god bless you sqlbelle we wait fo...      0\n",
       "22   67  Thank you so much putting all the Tableau  tip...      0\n",
       "25   70      Thank you Sandeep, glad you found it helpful!      0\n",
       "26   71                              very nice explanation      0\n",
       "27   72                                 Thank you Sasank.!      1\n",
       "30   75                                         Thank you.      1\n",
       "31   76                                 Thank you Patrick!      1\n",
       "32   77        How did you become that good at Tableau ?!!      0\n",
       "33   78  I am still learning :) ... I think with my wor...      0\n",
       "35   80                          So glad to hear, Deepa :)      0\n",
       "36   81                                       Thanks alot.      1\n",
       "37   82                                Thank you Siddiqui!      1\n",
       "38   83                        very nice explanation🇮🇳🇮🇳🇮🇳      0\n",
       "39   84                                 Thank you Hussain!      1\n",
       "40   85                                 Very Informative 👍      1\n",
       "41   86                                Thank you Majunath!      1\n",
       "42   87                                  Very good content      0\n",
       "43   88                                       Thank you :)      0\n",
       "47   92  Really your so awesome...\\nUse full tutorial f...      0\n",
       "49   94  Impeccable delivery, as always. We're lucky to...      0\n",
       "50   95  Thank you for the amazing video.  I have a cou...      0\n",
       "51   96               wow! amazing! I was waiting for this      0\n",
       "52   97  Thank you, very insightful! Was searching for ...      0\n",
       "54   99  Thank you! I'm new to Tableau and I enjoyed yo...      0"
      ]
     },
     "execution_count": null,
     "metadata": {},
     "output_type": "execute_result"
    }
   ],
   "source": [
    "df_train"
   ]
  },
  {
   "cell_type": "code",
   "execution_count": null,
   "metadata": {},
   "outputs": [
    {
     "name": "stdout",
     "output_type": "stream",
     "text": [
      "Really good content.  Looking forward to an advanced table calc video soon.  Super helpful looking at financials over time\n",
      "really good content. looking forward to an advanced board calc video soon. super helpful looking at financials over time\n",
      "Do u hv any udemy course belle??\n"
     ]
    },
    {
     "data": {
      "text/plain": [
       "[None, None, None]"
      ]
     },
     "execution_count": null,
     "metadata": {},
     "output_type": "execute_result"
    }
   ],
   "source": [
    "[print(o) for o in df_train_augmented.text[:3]]"
   ]
  },
  {
   "cell_type": "code",
   "execution_count": null,
   "metadata": {},
   "outputs": [
    {
     "data": {
      "text/plain": [
       "LogisticRegression()"
      ]
     },
     "execution_count": null,
     "metadata": {},
     "output_type": "execute_result"
    }
   ],
   "source": [
    "from sklearn.feature_extraction.text import CountVectorizer\n",
    "from sklearn.linear_model import LogisticRegression\n",
    "\n",
    "train_text = df_train_augmented.text.tolist()\n",
    "X_train = CountVectorizer(ngram_range=(1, 2)).fit_transform(train_text)\n",
    "\n",
    "clf = LogisticRegression(solver=\"lbfgs\")\n",
    "clf.fit(X=X_train, y=df_train_augmented.label.values)"
   ]
  },
  {
   "cell_type": "code",
   "execution_count": null,
   "metadata": {},
   "outputs": [],
   "source": []
  },
  {
   "cell_type": "code",
   "execution_count": null,
   "metadata": {},
   "outputs": [],
   "source": [
    "#| export\n",
    "def foo(): pass"
   ]
  },
  {
   "cell_type": "code",
   "execution_count": null,
   "metadata": {},
   "outputs": [],
   "source": [
    "#| hide\n",
    "import nbdev; nbdev.nbdev_export()"
   ]
  }
 ],
 "metadata": {
  "kernelspec": {
   "display_name": "Python 3",
   "language": "python",
   "name": "python3"
  }
 },
 "nbformat": 4,
 "nbformat_minor": 4
}
